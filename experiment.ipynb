{
 "cells": [
  {
   "cell_type": "code",
   "execution_count": 41,
   "metadata": {},
   "outputs": [],
   "source": [
    "data={'data': '{\"data\":{\"birthday\":\"\",\"created_at\":1654012591514,\"email_addresses\":[{\"email_address\":\"example@example.org\",\"id\":\"idn_29w83yL7CwVlJXylYLxcslromF1\",\"linked_to\":[],\"object\":\"email_address\",\"reserved\":true,\"verification\":{\"attempts\":null,\"expire_at\":null,\"status\":\"verified\",\"strategy\":\"admin\"}}],\"external_accounts\":[],\"external_id\":null,\"first_name\":\"Example\",\"gender\":\"\",\"id\":\"user_29w83sxmDNGwOuEthce5gg56FcC\",\"image_url\":\"https://img.clerk.com/xxxxxx\",\"last_name\":null,\"last_sign_in_at\":null,\"object\":\"user\",\"password_enabled\":true,\"phone_numbers\":[],\"primary_email_address_id\":\"idn_29w83yL7CwVlJXylYLxcslromF1\",\"primary_phone_number_id\":null,\"primary_web3_wallet_id\":null,\"private_metadata\":{},\"profile_image_url\":\"https://www.gravatar.com/avatar?d=mp\",\"public_metadata\":{},\"two_factor_enabled\":false,\"unsafe_metadata\":{},\"updated_at\":1654012824306,\"username\":null,\"web3_wallets\":[]},\"event_attributes\":{\"http_request\":{\"client_ip\":\"0.0.0.0\",\"user_agent\":\"Mozilla/5.0 (Macintosh; Intel Mac OS X 10_15_7) AppleWebKit/537.36 (KHTML, like Gecko) Chrome/128.0.0.0 Safari/537.36\"}},\"object\":\"event\",\"timestamp\":1654012824306,\"type\":\"user.updated\"}'}"
   ]
  },
  {
   "cell_type": "code",
   "execution_count": 42,
   "metadata": {},
   "outputs": [],
   "source": [
    "import json"
   ]
  },
  {
   "cell_type": "code",
   "execution_count": 43,
   "metadata": {},
   "outputs": [],
   "source": [
    "def extract(data):\n",
    "    requestType=data['type']\n",
    "\n",
    "    if requestType == \"user.deleted\":\n",
    "            clerkId=data['data']['id']\n",
    "            clerkName=\"NA\"\n",
    "            clerkEmail=\"NA\"\n",
    "            return(clerkId,clerkName,clerkEmail,requestType)\n",
    "    clerkId=data['data']['id']\n",
    "\n",
    "    clerkName=data['data']['first_name']\n",
    "    clerkEmail=data['data']['email_addresses'][0]['email_address']\n",
    "    return (clerkId,clerkName,clerkEmail,requestType)\n"
   ]
  },
  {
   "cell_type": "code",
   "execution_count": 47,
   "metadata": {},
   "outputs": [
    {
     "ename": "TypeError",
     "evalue": "string indices must be integers, not 'str'",
     "output_type": "error",
     "traceback": [
      "\u001b[0;31m---------------------------------------------------------------------------\u001b[0m",
      "\u001b[0;31mTypeError\u001b[0m                                 Traceback (most recent call last)",
      "Cell \u001b[0;32mIn[47], line 1\u001b[0m\n\u001b[0;32m----> 1\u001b[0m \u001b[43mdata\u001b[49m\u001b[43m[\u001b[49m\u001b[38;5;124;43m'\u001b[39;49m\u001b[38;5;124;43mdata\u001b[39;49m\u001b[38;5;124;43m'\u001b[39;49m\u001b[43m]\u001b[49m\u001b[43m[\u001b[49m\u001b[38;5;124;43m'\u001b[39;49m\u001b[38;5;124;43mtype\u001b[39;49m\u001b[38;5;124;43m'\u001b[39;49m\u001b[43m]\u001b[49m\n",
      "\u001b[0;31mTypeError\u001b[0m: string indices must be integers, not 'str'"
     ]
    }
   ],
   "source": [
    "data['data']"
   ]
  },
  {
   "cell_type": "code",
   "execution_count": 49,
   "metadata": {},
   "outputs": [
    {
     "data": {
      "text/plain": [
       "'user.updated'"
      ]
     },
     "execution_count": 49,
     "metadata": {},
     "output_type": "execute_result"
    }
   ],
   "source": [
    "newdata=json.loads(data['data'])\n",
    "\n"
   ]
  },
  {
   "cell_type": "code",
   "execution_count": 1,
   "metadata": {},
   "outputs": [],
   "source": [
    "\n",
    "data={'data': {'birthday': '', 'created_at': 1654012591514, 'email_addresses': [{'email_address': 'example@example.org', 'id': 'idn_29w83yL7CwVlJXylYLxcslromF1', 'linked_to': [], 'object': 'email_address', 'verification': {'status': 'verified', 'strategy': 'ticket'}}], 'external_accounts': [], 'external_id': '567772', 'first_name': 'Example', 'gender': '', 'id': 'user_29w83sxmDNGwOuEthce5gg56FcC', 'image_url': 'https://img.clerk.com/xxxxxx', 'last_name': 'Example', 'last_sign_in_at': 1654012591514, 'object': 'user', 'password_enabled': True, 'phone_numbers': [], 'primary_email_address_id': 'idn_29w83yL7CwVlJXylYLxcslromF1', 'primary_phone_number_id': None, 'primary_web3_wallet_id': None, 'private_metadata': {}, 'profile_image_url': 'https://www.gravatar.com/avatar?d=mp', 'public_metadata': {}, 'two_factor_enabled': False, 'unsafe_metadata': {}, 'updated_at': 1654012591835, 'username': None, 'web3_wallets': []}, 'event_attributes': {'http_request': {'client_ip': '0.0.0.0', 'user_agent': 'Mozilla/5.0 (Macintosh; Intel Mac OS X 10_15_7) AppleWebKit/537.36 (KHTML, like Gecko) Chrome/128.0.0.0 Safari/537.36'}}, 'object': 'event', 'timestamp': 1654012591835, 'type': 'user.created'}"
   ]
  },
  {
   "cell_type": "code",
   "execution_count": 11,
   "metadata": {},
   "outputs": [
    {
     "data": {
      "text/plain": [
       "'user.created'"
      ]
     },
     "execution_count": 11,
     "metadata": {},
     "output_type": "execute_result"
    }
   ],
   "source": [
    "data['data']['id']\n",
    "data['data']['first_name']\n",
    "data['data']['email_addresses'][0]['email_address']\n",
    "data['type']"
   ]
  },
  {
   "cell_type": "code",
   "execution_count": null,
   "metadata": {},
   "outputs": [],
   "source": []
  }
 ],
 "metadata": {
  "kernelspec": {
   "display_name": "CB_env",
   "language": "python",
   "name": "python3"
  },
  "language_info": {
   "codemirror_mode": {
    "name": "ipython",
    "version": 3
   },
   "file_extension": ".py",
   "mimetype": "text/x-python",
   "name": "python",
   "nbconvert_exporter": "python",
   "pygments_lexer": "ipython3",
   "version": "3.12.3"
  }
 },
 "nbformat": 4,
 "nbformat_minor": 2
}
